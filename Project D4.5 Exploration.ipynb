{
 "cells": [
  {
   "cell_type": "markdown",
   "metadata": {},
   "source": [
    "<h1>Project D4.5</h1>\n",
    "<p>Esta projeto é dividido em três partes<p>\n",
    "<p><ul>\n",
    "    <li>A <a href=\"#topico-1\">primeira parte</a> os dados são explorados com a biblioteca Pandas</li>\n",
    "    <li>A <a href=\"#topico-2\">segunda parte</a> explora graficamente os dados com matplotlib</li>\n",
    "    <li>\n",
    "        A <a href=\"#topico-3\">terceira parte</a> os dados são usados para testar uma implementação do algoritmo C4.5\n",
    "        <ul>\n",
    "            <li><a href=\"#topico-31\">Implementação do Algoritmo 6.1</a></li>\n",
    "            <li><a href=\"#topico-32\">Implementação do algoritmo para divisão da arvore</a></li>\n",
    "        </ul>\n",
    "    </li>\n",
    "</ul></p>\n",
    "    \n",
    "<h3> Informações sobre o conjunto de dados </h3>\n",
    "<p>This breast cancer domain was obtained from the University Medical Centre,\n",
    "   Institute of Oncology, Ljubljana, Yugoslavia.  Thanks go to M. Zwitter and \n",
    "   M. Soklic for providing the data.  Please include this citation if you plan\n",
    "   to use this database.</p>\n",
    "   <p><ul><li>Title: Breast cancer data (Michalski has used this)</li>\n",
    "    <li>Sources: \n",
    "        <ul><li>-- Matjaz Zwitter & Milan Soklic (physicians)\n",
    "      Institute of Oncology \n",
    "      University Medical Center\n",
    "            Ljubljana, Yugoslavia</li>\n",
    "   <li>-- Donors: Ming Tan and Jeff Schlimmer (Jeffrey.Schlimmer@a.gp.cs.cmu.edu)</li>\n",
    "            <li>-- Date: 11 July 1988</li></ul>\n",
    "    </li>\n",
    "<li>Attribute Information:\n",
    "   <ul><li>1. Class: no-recurrence-events, recurrence-events</li>\n",
    "   <li>2. age: 10-19, 20-29, 30-39, 40-49, 50-59, 60-69, 70-79, 80-89, 90-99.</li>\n",
    "   <li>3. menopause: lt40, ge40, premeno.</li>\n",
    "   <li>4. tumor-size: 0-4, 5-9, 10-14, 15-19, 20-24, 25-29, 30-34, 35-39, 40-44, 45-49, 50-54, 55-59.</li>\n",
    "   <li>5. inv-nodes: 0-2, 3-5, 6-8, 9-11, 12-14, 15-17, 18-20, 21-23, 24-26, 27-29, 30-32, 33-35, 36-39.</li>\n",
    "   <li>6. node-caps: yes, no.</li>\n",
    "   <li>7. deg-malig: 1, 2, 3.</li>\n",
    "   <li>8. breast: left, right.</li>\n",
    "  <li> 9. breast-quad: left-up, left-low, right-up,\tright-low, central.</li>\n",
    "       <li>10. irradiat:\tyes, no.</li></ul></li>\n",
    "\n",
    "</ul></p>\n",
    "\n",
    "<hr>\n",
    "<h4>Coisas que eu ainda quero explorar</h4>\n",
    "<ul>\n",
    "    <li>Cálculo de erro computacional durante a montagem dos classificadores</li>\n",
    "    <li>Um modelo matemático mais refinado da teoria de arvores de decisão</li>\n",
    "    <li>Um modelo matemático para determinar a quatidade de dados que é passada para cada etapa de uma criação de arvore</li>\n",
    "    <li>Quando ou quais as condições para parar (<i>stop</i>) a recursão em uma arvore</li>\n",
    "    <li>Como compor o último nó de uma arvore</li>\n",
    "    <li>Ordenar os atributos baseados em seu ganho de informação colocando o melhor caminho sempre a direita</li>\n",
    "    <li>Arvores de Decisão Ponderadas -> usar no cálculo de ganho de informação um peso atribuido por especilista do dominio para decisão da importância dos nós</li>\n",
    "</ul>"
   ]
  },
  {
   "cell_type": "markdown",
   "metadata": {},
   "source": [
    "<p>Importando as bibliotecas necessárias</p>"
   ]
  },
  {
   "cell_type": "code",
   "execution_count": 1,
   "metadata": {},
   "outputs": [],
   "source": [
    "import pandas as pd\n",
    "import sys as os\n",
    "import matplotlib.pyplot as plt\n",
    "%matplotlib inline\n",
    "\n",
    "# os.getsizeof(data_frame_training[label]):"
   ]
  },
  {
   "cell_type": "markdown",
   "metadata": {},
   "source": [
    "<h2><a name=\"topico-1\">1. Explora os dados usando o Pandas</a></h2>"
   ]
  },
  {
   "cell_type": "markdown",
   "metadata": {},
   "source": [
    "<p>Cria o data frame a partir do arquivo de dados indicado</p>\n",
    "<p><strong>Obs.:</strong> Apesar de estar salvo com uma extensão .data o arquivo é codificado no formato csv</p>"
   ]
  },
  {
   "cell_type": "code",
   "execution_count": 2,
   "metadata": {},
   "outputs": [],
   "source": [
    "# Data Frame for Breast Cancer\n",
    "df_bc = pd.read_csv('breast-cancer.data')"
   ]
  },
  {
   "cell_type": "markdown",
   "metadata": {},
   "source": [
    "<p>Exibe os primeiros registros do arquivo de dados</p>"
   ]
  },
  {
   "cell_type": "code",
   "execution_count": 30,
   "metadata": {},
   "outputs": [
    {
     "data": {
      "text/html": [
       "<div>\n",
       "<style scoped>\n",
       "    .dataframe tbody tr th:only-of-type {\n",
       "        vertical-align: middle;\n",
       "    }\n",
       "\n",
       "    .dataframe tbody tr th {\n",
       "        vertical-align: top;\n",
       "    }\n",
       "\n",
       "    .dataframe thead th {\n",
       "        text-align: right;\n",
       "    }\n",
       "</style>\n",
       "<table border=\"1\" class=\"dataframe\">\n",
       "  <thead>\n",
       "    <tr style=\"text-align: right;\">\n",
       "      <th></th>\n",
       "      <th>class</th>\n",
       "      <th>age</th>\n",
       "      <th>menopause</th>\n",
       "      <th>tumor-size</th>\n",
       "      <th>inv-nodes</th>\n",
       "      <th>node-caps</th>\n",
       "      <th>deg-malig</th>\n",
       "      <th>breast</th>\n",
       "      <th>breast-quad</th>\n",
       "      <th>irradiat</th>\n",
       "    </tr>\n",
       "  </thead>\n",
       "  <tbody>\n",
       "    <tr>\n",
       "      <th>0</th>\n",
       "      <td>no-recurrence-events</td>\n",
       "      <td>30-39</td>\n",
       "      <td>premeno</td>\n",
       "      <td>30-34</td>\n",
       "      <td>0-2</td>\n",
       "      <td>no</td>\n",
       "      <td>3</td>\n",
       "      <td>left</td>\n",
       "      <td>left_low</td>\n",
       "      <td>no</td>\n",
       "    </tr>\n",
       "    <tr>\n",
       "      <th>1</th>\n",
       "      <td>no-recurrence-events</td>\n",
       "      <td>40-49</td>\n",
       "      <td>premeno</td>\n",
       "      <td>20-24</td>\n",
       "      <td>0-2</td>\n",
       "      <td>no</td>\n",
       "      <td>2</td>\n",
       "      <td>right</td>\n",
       "      <td>right_up</td>\n",
       "      <td>no</td>\n",
       "    </tr>\n",
       "    <tr>\n",
       "      <th>2</th>\n",
       "      <td>no-recurrence-events</td>\n",
       "      <td>40-49</td>\n",
       "      <td>premeno</td>\n",
       "      <td>20-24</td>\n",
       "      <td>0-2</td>\n",
       "      <td>no</td>\n",
       "      <td>2</td>\n",
       "      <td>left</td>\n",
       "      <td>left_low</td>\n",
       "      <td>no</td>\n",
       "    </tr>\n",
       "    <tr>\n",
       "      <th>3</th>\n",
       "      <td>no-recurrence-events</td>\n",
       "      <td>60-69</td>\n",
       "      <td>ge40</td>\n",
       "      <td>15-19</td>\n",
       "      <td>0-2</td>\n",
       "      <td>no</td>\n",
       "      <td>2</td>\n",
       "      <td>right</td>\n",
       "      <td>left_up</td>\n",
       "      <td>no</td>\n",
       "    </tr>\n",
       "    <tr>\n",
       "      <th>4</th>\n",
       "      <td>no-recurrence-events</td>\n",
       "      <td>40-49</td>\n",
       "      <td>premeno</td>\n",
       "      <td>0-4</td>\n",
       "      <td>0-2</td>\n",
       "      <td>no</td>\n",
       "      <td>2</td>\n",
       "      <td>right</td>\n",
       "      <td>right_low</td>\n",
       "      <td>no</td>\n",
       "    </tr>\n",
       "  </tbody>\n",
       "</table>\n",
       "</div>"
      ],
      "text/plain": [
       "                  class    age menopause tumor-size inv-nodes node-caps  \\\n",
       "0  no-recurrence-events  30-39   premeno      30-34       0-2        no   \n",
       "1  no-recurrence-events  40-49   premeno      20-24       0-2        no   \n",
       "2  no-recurrence-events  40-49   premeno      20-24       0-2        no   \n",
       "3  no-recurrence-events  60-69      ge40      15-19       0-2        no   \n",
       "4  no-recurrence-events  40-49   premeno        0-4       0-2        no   \n",
       "\n",
       "   deg-malig breast breast-quad irradiat  \n",
       "0          3   left    left_low       no  \n",
       "1          2  right    right_up       no  \n",
       "2          2   left    left_low       no  \n",
       "3          2  right     left_up       no  \n",
       "4          2  right   right_low       no  "
      ]
     },
     "execution_count": 30,
     "metadata": {},
     "output_type": "execute_result"
    }
   ],
   "source": [
    "df_bc.head()"
   ]
  },
  {
   "cell_type": "markdown",
   "metadata": {},
   "source": [
    "<p>Como o conjuto de dados não tem definido no arquivo os nomes das colunas o seguinte código é usado</p>"
   ]
  },
  {
   "cell_type": "code",
   "execution_count": 9,
   "metadata": {},
   "outputs": [
    {
     "data": {
      "text/html": [
       "<div>\n",
       "<style scoped>\n",
       "    .dataframe tbody tr th:only-of-type {\n",
       "        vertical-align: middle;\n",
       "    }\n",
       "\n",
       "    .dataframe tbody tr th {\n",
       "        vertical-align: top;\n",
       "    }\n",
       "\n",
       "    .dataframe thead th {\n",
       "        text-align: right;\n",
       "    }\n",
       "</style>\n",
       "<table border=\"1\" class=\"dataframe\">\n",
       "  <thead>\n",
       "    <tr style=\"text-align: right;\">\n",
       "      <th></th>\n",
       "      <th>class</th>\n",
       "      <th>age</th>\n",
       "      <th>menopause</th>\n",
       "      <th>tumor-size</th>\n",
       "      <th>inv-nodes</th>\n",
       "      <th>node-caps</th>\n",
       "      <th>deg-malig</th>\n",
       "      <th>breast</th>\n",
       "      <th>breast-quad</th>\n",
       "      <th>irradiat</th>\n",
       "    </tr>\n",
       "  </thead>\n",
       "  <tbody>\n",
       "    <tr>\n",
       "      <th>0</th>\n",
       "      <td>no-recurrence-events</td>\n",
       "      <td>30-39</td>\n",
       "      <td>premeno</td>\n",
       "      <td>30-34</td>\n",
       "      <td>0-2</td>\n",
       "      <td>no</td>\n",
       "      <td>3</td>\n",
       "      <td>left</td>\n",
       "      <td>left_low</td>\n",
       "      <td>no</td>\n",
       "    </tr>\n",
       "    <tr>\n",
       "      <th>1</th>\n",
       "      <td>no-recurrence-events</td>\n",
       "      <td>40-49</td>\n",
       "      <td>premeno</td>\n",
       "      <td>20-24</td>\n",
       "      <td>0-2</td>\n",
       "      <td>no</td>\n",
       "      <td>2</td>\n",
       "      <td>right</td>\n",
       "      <td>right_up</td>\n",
       "      <td>no</td>\n",
       "    </tr>\n",
       "    <tr>\n",
       "      <th>2</th>\n",
       "      <td>no-recurrence-events</td>\n",
       "      <td>40-49</td>\n",
       "      <td>premeno</td>\n",
       "      <td>20-24</td>\n",
       "      <td>0-2</td>\n",
       "      <td>no</td>\n",
       "      <td>2</td>\n",
       "      <td>left</td>\n",
       "      <td>left_low</td>\n",
       "      <td>no</td>\n",
       "    </tr>\n",
       "    <tr>\n",
       "      <th>3</th>\n",
       "      <td>no-recurrence-events</td>\n",
       "      <td>60-69</td>\n",
       "      <td>ge40</td>\n",
       "      <td>15-19</td>\n",
       "      <td>0-2</td>\n",
       "      <td>no</td>\n",
       "      <td>2</td>\n",
       "      <td>right</td>\n",
       "      <td>left_up</td>\n",
       "      <td>no</td>\n",
       "    </tr>\n",
       "    <tr>\n",
       "      <th>4</th>\n",
       "      <td>no-recurrence-events</td>\n",
       "      <td>40-49</td>\n",
       "      <td>premeno</td>\n",
       "      <td>0-4</td>\n",
       "      <td>0-2</td>\n",
       "      <td>no</td>\n",
       "      <td>2</td>\n",
       "      <td>right</td>\n",
       "      <td>right_low</td>\n",
       "      <td>no</td>\n",
       "    </tr>\n",
       "  </tbody>\n",
       "</table>\n",
       "</div>"
      ],
      "text/plain": [
       "                  class    age menopause tumor-size inv-nodes node-caps  \\\n",
       "0  no-recurrence-events  30-39   premeno      30-34       0-2        no   \n",
       "1  no-recurrence-events  40-49   premeno      20-24       0-2        no   \n",
       "2  no-recurrence-events  40-49   premeno      20-24       0-2        no   \n",
       "3  no-recurrence-events  60-69      ge40      15-19       0-2        no   \n",
       "4  no-recurrence-events  40-49   premeno        0-4       0-2        no   \n",
       "\n",
       "   deg-malig breast breast-quad irradiat  \n",
       "0          3   left    left_low       no  \n",
       "1          2  right    right_up       no  \n",
       "2          2   left    left_low       no  \n",
       "3          2  right     left_up       no  \n",
       "4          2  right   right_low       no  "
      ]
     },
     "execution_count": 9,
     "metadata": {},
     "output_type": "execute_result"
    }
   ],
   "source": [
    "labels = ['class', 'age', 'menopause', 'tumor-size', 'inv-nodes', 'node-caps', 'deg-malig', 'breast', 'breast-quad', 'irradiat']\n",
    "df_bc = pd.read_csv('breast-cancer.data', names=labels)\n",
    "df_bc.head()"
   ]
  },
  {
   "cell_type": "markdown",
   "metadata": {},
   "source": [
    "<p>Obtém uma tupla com as dimensões do Data Frame"
   ]
  },
  {
   "cell_type": "code",
   "execution_count": 10,
   "metadata": {},
   "outputs": [
    {
     "data": {
      "text/plain": [
       "(286, 10)"
      ]
     },
     "execution_count": 10,
     "metadata": {},
     "output_type": "execute_result"
    }
   ],
   "source": [
    "df_bc.shape"
   ]
  },
  {
   "cell_type": "markdown",
   "metadata": {},
   "source": [
    "<p>Analisa quais os tipos de dados atribuidos a cada coluna do conjunto de dados</p>"
   ]
  },
  {
   "cell_type": "code",
   "execution_count": 11,
   "metadata": {},
   "outputs": [
    {
     "data": {
      "text/plain": [
       "class          object\n",
       "age            object\n",
       "menopause      object\n",
       "tumor-size     object\n",
       "inv-nodes      object\n",
       "node-caps      object\n",
       "deg-malig       int64\n",
       "breast         object\n",
       "breast-quad    object\n",
       "irradiat       object\n",
       "dtype: object"
      ]
     },
     "execution_count": 11,
     "metadata": {},
     "output_type": "execute_result"
    }
   ],
   "source": [
    "df_bc.dtypes"
   ]
  },
  {
   "cell_type": "markdown",
   "metadata": {},
   "source": [
    "<p>Obtém um resumo do Data Frame obtido através do conjunto de dados</p>"
   ]
  },
  {
   "cell_type": "code",
   "execution_count": 12,
   "metadata": {},
   "outputs": [
    {
     "name": "stdout",
     "output_type": "stream",
     "text": [
      "<class 'pandas.core.frame.DataFrame'>\n",
      "RangeIndex: 286 entries, 0 to 285\n",
      "Data columns (total 10 columns):\n",
      "class          286 non-null object\n",
      "age            286 non-null object\n",
      "menopause      286 non-null object\n",
      "tumor-size     286 non-null object\n",
      "inv-nodes      286 non-null object\n",
      "node-caps      286 non-null object\n",
      "deg-malig      286 non-null int64\n",
      "breast         286 non-null object\n",
      "breast-quad    286 non-null object\n",
      "irradiat       286 non-null object\n",
      "dtypes: int64(1), object(9)\n",
      "memory usage: 22.4+ KB\n"
     ]
    }
   ],
   "source": [
    "df_bc.info()"
   ]
  },
  {
   "cell_type": "markdown",
   "metadata": {},
   "source": [
    "<p>Analisa o número de valores únicos por cada coluna</p>"
   ]
  },
  {
   "cell_type": "code",
   "execution_count": 13,
   "metadata": {},
   "outputs": [
    {
     "data": {
      "text/plain": [
       "class           2\n",
       "age             6\n",
       "menopause       3\n",
       "tumor-size     11\n",
       "inv-nodes       7\n",
       "node-caps       3\n",
       "deg-malig       3\n",
       "breast          2\n",
       "breast-quad     6\n",
       "irradiat        2\n",
       "dtype: int64"
      ]
     },
     "execution_count": 13,
     "metadata": {},
     "output_type": "execute_result"
    }
   ],
   "source": [
    "df_bc.nunique()"
   ]
  },
  {
   "cell_type": "markdown",
   "metadata": {},
   "source": [
    "<p>Obtém estatisticas descritivas para cada coluna do conjunto de dados</p>\n",
    "<p><strong>Obs.:</strong> Aplicável somente a tipos numéricos</p>"
   ]
  },
  {
   "cell_type": "code",
   "execution_count": 14,
   "metadata": {},
   "outputs": [
    {
     "data": {
      "text/html": [
       "<div>\n",
       "<style scoped>\n",
       "    .dataframe tbody tr th:only-of-type {\n",
       "        vertical-align: middle;\n",
       "    }\n",
       "\n",
       "    .dataframe tbody tr th {\n",
       "        vertical-align: top;\n",
       "    }\n",
       "\n",
       "    .dataframe thead th {\n",
       "        text-align: right;\n",
       "    }\n",
       "</style>\n",
       "<table border=\"1\" class=\"dataframe\">\n",
       "  <thead>\n",
       "    <tr style=\"text-align: right;\">\n",
       "      <th></th>\n",
       "      <th>deg-malig</th>\n",
       "    </tr>\n",
       "  </thead>\n",
       "  <tbody>\n",
       "    <tr>\n",
       "      <th>count</th>\n",
       "      <td>286.000000</td>\n",
       "    </tr>\n",
       "    <tr>\n",
       "      <th>mean</th>\n",
       "      <td>2.048951</td>\n",
       "    </tr>\n",
       "    <tr>\n",
       "      <th>std</th>\n",
       "      <td>0.738217</td>\n",
       "    </tr>\n",
       "    <tr>\n",
       "      <th>min</th>\n",
       "      <td>1.000000</td>\n",
       "    </tr>\n",
       "    <tr>\n",
       "      <th>25%</th>\n",
       "      <td>2.000000</td>\n",
       "    </tr>\n",
       "    <tr>\n",
       "      <th>50%</th>\n",
       "      <td>2.000000</td>\n",
       "    </tr>\n",
       "    <tr>\n",
       "      <th>75%</th>\n",
       "      <td>3.000000</td>\n",
       "    </tr>\n",
       "    <tr>\n",
       "      <th>max</th>\n",
       "      <td>3.000000</td>\n",
       "    </tr>\n",
       "  </tbody>\n",
       "</table>\n",
       "</div>"
      ],
      "text/plain": [
       "        deg-malig\n",
       "count  286.000000\n",
       "mean     2.048951\n",
       "std      0.738217\n",
       "min      1.000000\n",
       "25%      2.000000\n",
       "50%      2.000000\n",
       "75%      3.000000\n",
       "max      3.000000"
      ]
     },
     "execution_count": 14,
     "metadata": {},
     "output_type": "execute_result"
    }
   ],
   "source": [
    "df_bc.describe()"
   ]
  },
  {
   "cell_type": "markdown",
   "metadata": {},
   "source": [
    "<p>Cria um Data Frame com os dados que tenham a classe no-recurrence-events</p>"
   ]
  },
  {
   "cell_type": "code",
   "execution_count": 17,
   "metadata": {},
   "outputs": [
    {
     "data": {
      "text/html": [
       "<div>\n",
       "<style scoped>\n",
       "    .dataframe tbody tr th:only-of-type {\n",
       "        vertical-align: middle;\n",
       "    }\n",
       "\n",
       "    .dataframe tbody tr th {\n",
       "        vertical-align: top;\n",
       "    }\n",
       "\n",
       "    .dataframe thead th {\n",
       "        text-align: right;\n",
       "    }\n",
       "</style>\n",
       "<table border=\"1\" class=\"dataframe\">\n",
       "  <thead>\n",
       "    <tr style=\"text-align: right;\">\n",
       "      <th></th>\n",
       "      <th>class</th>\n",
       "      <th>age</th>\n",
       "      <th>menopause</th>\n",
       "      <th>tumor-size</th>\n",
       "      <th>inv-nodes</th>\n",
       "      <th>node-caps</th>\n",
       "      <th>deg-malig</th>\n",
       "      <th>breast</th>\n",
       "      <th>breast-quad</th>\n",
       "      <th>irradiat</th>\n",
       "    </tr>\n",
       "  </thead>\n",
       "  <tbody>\n",
       "    <tr>\n",
       "      <th>0</th>\n",
       "      <td>no-recurrence-events</td>\n",
       "      <td>30-39</td>\n",
       "      <td>premeno</td>\n",
       "      <td>30-34</td>\n",
       "      <td>0-2</td>\n",
       "      <td>no</td>\n",
       "      <td>3</td>\n",
       "      <td>left</td>\n",
       "      <td>left_low</td>\n",
       "      <td>no</td>\n",
       "    </tr>\n",
       "    <tr>\n",
       "      <th>1</th>\n",
       "      <td>no-recurrence-events</td>\n",
       "      <td>40-49</td>\n",
       "      <td>premeno</td>\n",
       "      <td>20-24</td>\n",
       "      <td>0-2</td>\n",
       "      <td>no</td>\n",
       "      <td>2</td>\n",
       "      <td>right</td>\n",
       "      <td>right_up</td>\n",
       "      <td>no</td>\n",
       "    </tr>\n",
       "    <tr>\n",
       "      <th>2</th>\n",
       "      <td>no-recurrence-events</td>\n",
       "      <td>40-49</td>\n",
       "      <td>premeno</td>\n",
       "      <td>20-24</td>\n",
       "      <td>0-2</td>\n",
       "      <td>no</td>\n",
       "      <td>2</td>\n",
       "      <td>left</td>\n",
       "      <td>left_low</td>\n",
       "      <td>no</td>\n",
       "    </tr>\n",
       "    <tr>\n",
       "      <th>3</th>\n",
       "      <td>no-recurrence-events</td>\n",
       "      <td>60-69</td>\n",
       "      <td>ge40</td>\n",
       "      <td>15-19</td>\n",
       "      <td>0-2</td>\n",
       "      <td>no</td>\n",
       "      <td>2</td>\n",
       "      <td>right</td>\n",
       "      <td>left_up</td>\n",
       "      <td>no</td>\n",
       "    </tr>\n",
       "    <tr>\n",
       "      <th>4</th>\n",
       "      <td>no-recurrence-events</td>\n",
       "      <td>40-49</td>\n",
       "      <td>premeno</td>\n",
       "      <td>0-4</td>\n",
       "      <td>0-2</td>\n",
       "      <td>no</td>\n",
       "      <td>2</td>\n",
       "      <td>right</td>\n",
       "      <td>right_low</td>\n",
       "      <td>no</td>\n",
       "    </tr>\n",
       "  </tbody>\n",
       "</table>\n",
       "</div>"
      ],
      "text/plain": [
       "                  class    age menopause tumor-size inv-nodes node-caps  \\\n",
       "0  no-recurrence-events  30-39   premeno      30-34       0-2        no   \n",
       "1  no-recurrence-events  40-49   premeno      20-24       0-2        no   \n",
       "2  no-recurrence-events  40-49   premeno      20-24       0-2        no   \n",
       "3  no-recurrence-events  60-69      ge40      15-19       0-2        no   \n",
       "4  no-recurrence-events  40-49   premeno        0-4       0-2        no   \n",
       "\n",
       "   deg-malig breast breast-quad irradiat  \n",
       "0          3   left    left_low       no  \n",
       "1          2  right    right_up       no  \n",
       "2          2   left    left_low       no  \n",
       "3          2  right     left_up       no  \n",
       "4          2  right   right_low       no  "
      ]
     },
     "execution_count": 17,
     "metadata": {},
     "output_type": "execute_result"
    }
   ],
   "source": [
    "df_bc_nre = df_bc[df_bc['class'] == 'no-recurrence-events']\n",
    "df_bc_nre.head()"
   ]
  },
  {
   "cell_type": "markdown",
   "metadata": {},
   "source": [
    "<p>Cria um Data Frame com os dados que tenham a classe recurrence-events</p>"
   ]
  },
  {
   "cell_type": "code",
   "execution_count": 18,
   "metadata": {},
   "outputs": [
    {
     "data": {
      "text/html": [
       "<div>\n",
       "<style scoped>\n",
       "    .dataframe tbody tr th:only-of-type {\n",
       "        vertical-align: middle;\n",
       "    }\n",
       "\n",
       "    .dataframe tbody tr th {\n",
       "        vertical-align: top;\n",
       "    }\n",
       "\n",
       "    .dataframe thead th {\n",
       "        text-align: right;\n",
       "    }\n",
       "</style>\n",
       "<table border=\"1\" class=\"dataframe\">\n",
       "  <thead>\n",
       "    <tr style=\"text-align: right;\">\n",
       "      <th></th>\n",
       "      <th>class</th>\n",
       "      <th>age</th>\n",
       "      <th>menopause</th>\n",
       "      <th>tumor-size</th>\n",
       "      <th>inv-nodes</th>\n",
       "      <th>node-caps</th>\n",
       "      <th>deg-malig</th>\n",
       "      <th>breast</th>\n",
       "      <th>breast-quad</th>\n",
       "      <th>irradiat</th>\n",
       "    </tr>\n",
       "  </thead>\n",
       "  <tbody>\n",
       "    <tr>\n",
       "      <th>201</th>\n",
       "      <td>recurrence-events</td>\n",
       "      <td>50-59</td>\n",
       "      <td>premeno</td>\n",
       "      <td>15-19</td>\n",
       "      <td>0-2</td>\n",
       "      <td>no</td>\n",
       "      <td>2</td>\n",
       "      <td>left</td>\n",
       "      <td>left_low</td>\n",
       "      <td>no</td>\n",
       "    </tr>\n",
       "    <tr>\n",
       "      <th>202</th>\n",
       "      <td>recurrence-events</td>\n",
       "      <td>40-49</td>\n",
       "      <td>premeno</td>\n",
       "      <td>40-44</td>\n",
       "      <td>0-2</td>\n",
       "      <td>no</td>\n",
       "      <td>1</td>\n",
       "      <td>left</td>\n",
       "      <td>left_low</td>\n",
       "      <td>no</td>\n",
       "    </tr>\n",
       "    <tr>\n",
       "      <th>203</th>\n",
       "      <td>recurrence-events</td>\n",
       "      <td>50-59</td>\n",
       "      <td>ge40</td>\n",
       "      <td>35-39</td>\n",
       "      <td>0-2</td>\n",
       "      <td>no</td>\n",
       "      <td>2</td>\n",
       "      <td>left</td>\n",
       "      <td>left_low</td>\n",
       "      <td>no</td>\n",
       "    </tr>\n",
       "    <tr>\n",
       "      <th>204</th>\n",
       "      <td>recurrence-events</td>\n",
       "      <td>50-59</td>\n",
       "      <td>premeno</td>\n",
       "      <td>25-29</td>\n",
       "      <td>0-2</td>\n",
       "      <td>no</td>\n",
       "      <td>2</td>\n",
       "      <td>left</td>\n",
       "      <td>right_up</td>\n",
       "      <td>no</td>\n",
       "    </tr>\n",
       "    <tr>\n",
       "      <th>205</th>\n",
       "      <td>recurrence-events</td>\n",
       "      <td>30-39</td>\n",
       "      <td>premeno</td>\n",
       "      <td>0-4</td>\n",
       "      <td>0-2</td>\n",
       "      <td>no</td>\n",
       "      <td>2</td>\n",
       "      <td>right</td>\n",
       "      <td>central</td>\n",
       "      <td>no</td>\n",
       "    </tr>\n",
       "  </tbody>\n",
       "</table>\n",
       "</div>"
      ],
      "text/plain": [
       "                 class    age menopause tumor-size inv-nodes node-caps  \\\n",
       "201  recurrence-events  50-59   premeno      15-19       0-2        no   \n",
       "202  recurrence-events  40-49   premeno      40-44       0-2        no   \n",
       "203  recurrence-events  50-59      ge40      35-39       0-2        no   \n",
       "204  recurrence-events  50-59   premeno      25-29       0-2        no   \n",
       "205  recurrence-events  30-39   premeno        0-4       0-2        no   \n",
       "\n",
       "     deg-malig breast breast-quad irradiat  \n",
       "201          2   left    left_low       no  \n",
       "202          1   left    left_low       no  \n",
       "203          2   left    left_low       no  \n",
       "204          2   left    right_up       no  \n",
       "205          2  right     central       no  "
      ]
     },
     "execution_count": 18,
     "metadata": {},
     "output_type": "execute_result"
    }
   ],
   "source": [
    "df_bc_re = df_bc[df_bc['class'] == 'recurrence-events']\n",
    "df_bc_re.head()"
   ]
  },
  {
   "cell_type": "markdown",
   "metadata": {},
   "source": [
    "<p>Explora os dois Data Frames obtidos</p>"
   ]
  },
  {
   "cell_type": "code",
   "execution_count": 23,
   "metadata": {},
   "outputs": [
    {
     "name": "stdout",
     "output_type": "stream",
     "text": [
      "Length\n",
      "\tTotal lines Data Frame original: 286\n",
      "\tTotal lines Data Frame class no-recurrence-events: 201\n",
      "\tTotal lines Data Frame class recurrence-events: 85\n",
      "Sum for register: 286\n",
      "Proportion class for no-recurrence-events = 70.27972027972028 and recurrence-events = 29.72027972027972\n"
     ]
    }
   ],
   "source": [
    "length_reg_bc = df_bc.shape[0]\n",
    "length_reg_bc_nre = df_bc_nre.shape[0]\n",
    "length_reg_bc_re = df_bc_re.shape[0]\n",
    "print(\"Length\\n\\tTotal lines Data Frame original: \" + str(length_reg_bc))\n",
    "print(\"\\tTotal lines Data Frame class no-recurrence-events: \" + str(length_reg_bc_nre))\n",
    "print(\"\\tTotal lines Data Frame class recurrence-events: \" + str(length_reg_bc_re))\n",
    "print(\"Sum for register: \" + str(length_reg_bc_nre + length_reg_bc_re))\n",
    "\n",
    "proportion_class_nre = (length_reg_bc_nre / length_reg_bc) * 100\n",
    "proportion_class_re = (length_reg_bc_re / length_reg_bc) * 100\n",
    "msg = 'Proportion class for no-recurrence-events = {} and recurrence-events = {}'\n",
    "print(msg.format(str(proportion_class_nre), str(proportion_class_re)))"
   ]
  },
  {
   "cell_type": "markdown",
   "metadata": {},
   "source": [
    "<p>Analisa o conjunto de dados original e verifica se existem dados duplicados</p>"
   ]
  },
  {
   "cell_type": "code",
   "execution_count": 24,
   "metadata": {},
   "outputs": [
    {
     "data": {
      "text/plain": [
       "0      False\n",
       "1      False\n",
       "2      False\n",
       "3      False\n",
       "4      False\n",
       "5      False\n",
       "6      False\n",
       "7      False\n",
       "8      False\n",
       "9      False\n",
       "10     False\n",
       "11     False\n",
       "12     False\n",
       "13     False\n",
       "14     False\n",
       "15     False\n",
       "16     False\n",
       "17     False\n",
       "18     False\n",
       "19     False\n",
       "20     False\n",
       "21      True\n",
       "22     False\n",
       "23     False\n",
       "24     False\n",
       "25     False\n",
       "26     False\n",
       "27     False\n",
       "28     False\n",
       "29     False\n",
       "       ...  \n",
       "256    False\n",
       "257    False\n",
       "258    False\n",
       "259    False\n",
       "260    False\n",
       "261    False\n",
       "262    False\n",
       "263    False\n",
       "264    False\n",
       "265    False\n",
       "266    False\n",
       "267    False\n",
       "268     True\n",
       "269    False\n",
       "270    False\n",
       "271    False\n",
       "272    False\n",
       "273    False\n",
       "274    False\n",
       "275    False\n",
       "276    False\n",
       "277    False\n",
       "278    False\n",
       "279    False\n",
       "280     True\n",
       "281    False\n",
       "282    False\n",
       "283    False\n",
       "284    False\n",
       "285    False\n",
       "Length: 286, dtype: bool"
      ]
     },
     "execution_count": 24,
     "metadata": {},
     "output_type": "execute_result"
    }
   ],
   "source": [
    "df_bc.duplicated()"
   ]
  },
  {
   "cell_type": "markdown",
   "metadata": {},
   "source": [
    "<p>Obtém então o quantitativo de dados duplicados</p>"
   ]
  },
  {
   "cell_type": "code",
   "execution_count": 25,
   "metadata": {},
   "outputs": [
    {
     "data": {
      "text/plain": [
       "14"
      ]
     },
     "execution_count": 25,
     "metadata": {},
     "output_type": "execute_result"
    }
   ],
   "source": [
    "sum(df_bc.duplicated())"
   ]
  },
  {
   "cell_type": "markdown",
   "metadata": {},
   "source": [
    "<p>Cria uma cópia do Data Frame e então remove dele todos os registros duplicados</p>"
   ]
  },
  {
   "cell_type": "code",
   "execution_count": 32,
   "metadata": {},
   "outputs": [
    {
     "data": {
      "text/html": [
       "<div>\n",
       "<style scoped>\n",
       "    .dataframe tbody tr th:only-of-type {\n",
       "        vertical-align: middle;\n",
       "    }\n",
       "\n",
       "    .dataframe tbody tr th {\n",
       "        vertical-align: top;\n",
       "    }\n",
       "\n",
       "    .dataframe thead th {\n",
       "        text-align: right;\n",
       "    }\n",
       "</style>\n",
       "<table border=\"1\" class=\"dataframe\">\n",
       "  <thead>\n",
       "    <tr style=\"text-align: right;\">\n",
       "      <th></th>\n",
       "      <th>class</th>\n",
       "      <th>age</th>\n",
       "      <th>menopause</th>\n",
       "      <th>tumor-size</th>\n",
       "      <th>inv-nodes</th>\n",
       "      <th>node-caps</th>\n",
       "      <th>deg-malig</th>\n",
       "      <th>breast</th>\n",
       "      <th>breast-quad</th>\n",
       "      <th>irradiat</th>\n",
       "    </tr>\n",
       "  </thead>\n",
       "  <tbody>\n",
       "    <tr>\n",
       "      <th>0</th>\n",
       "      <td>no-recurrence-events</td>\n",
       "      <td>30-39</td>\n",
       "      <td>premeno</td>\n",
       "      <td>30-34</td>\n",
       "      <td>0-2</td>\n",
       "      <td>no</td>\n",
       "      <td>3</td>\n",
       "      <td>left</td>\n",
       "      <td>left_low</td>\n",
       "      <td>no</td>\n",
       "    </tr>\n",
       "    <tr>\n",
       "      <th>1</th>\n",
       "      <td>no-recurrence-events</td>\n",
       "      <td>40-49</td>\n",
       "      <td>premeno</td>\n",
       "      <td>20-24</td>\n",
       "      <td>0-2</td>\n",
       "      <td>no</td>\n",
       "      <td>2</td>\n",
       "      <td>right</td>\n",
       "      <td>right_up</td>\n",
       "      <td>no</td>\n",
       "    </tr>\n",
       "    <tr>\n",
       "      <th>2</th>\n",
       "      <td>no-recurrence-events</td>\n",
       "      <td>40-49</td>\n",
       "      <td>premeno</td>\n",
       "      <td>20-24</td>\n",
       "      <td>0-2</td>\n",
       "      <td>no</td>\n",
       "      <td>2</td>\n",
       "      <td>left</td>\n",
       "      <td>left_low</td>\n",
       "      <td>no</td>\n",
       "    </tr>\n",
       "    <tr>\n",
       "      <th>3</th>\n",
       "      <td>no-recurrence-events</td>\n",
       "      <td>60-69</td>\n",
       "      <td>ge40</td>\n",
       "      <td>15-19</td>\n",
       "      <td>0-2</td>\n",
       "      <td>no</td>\n",
       "      <td>2</td>\n",
       "      <td>right</td>\n",
       "      <td>left_up</td>\n",
       "      <td>no</td>\n",
       "    </tr>\n",
       "    <tr>\n",
       "      <th>4</th>\n",
       "      <td>no-recurrence-events</td>\n",
       "      <td>40-49</td>\n",
       "      <td>premeno</td>\n",
       "      <td>0-4</td>\n",
       "      <td>0-2</td>\n",
       "      <td>no</td>\n",
       "      <td>2</td>\n",
       "      <td>right</td>\n",
       "      <td>right_low</td>\n",
       "      <td>no</td>\n",
       "    </tr>\n",
       "  </tbody>\n",
       "</table>\n",
       "</div>"
      ],
      "text/plain": [
       "                  class    age menopause tumor-size inv-nodes node-caps  \\\n",
       "0  no-recurrence-events  30-39   premeno      30-34       0-2        no   \n",
       "1  no-recurrence-events  40-49   premeno      20-24       0-2        no   \n",
       "2  no-recurrence-events  40-49   premeno      20-24       0-2        no   \n",
       "3  no-recurrence-events  60-69      ge40      15-19       0-2        no   \n",
       "4  no-recurrence-events  40-49   premeno        0-4       0-2        no   \n",
       "\n",
       "   deg-malig breast breast-quad irradiat  \n",
       "0          3   left    left_low       no  \n",
       "1          2  right    right_up       no  \n",
       "2          2   left    left_low       no  \n",
       "3          2  right     left_up       no  \n",
       "4          2  right   right_low       no  "
      ]
     },
     "execution_count": 32,
     "metadata": {},
     "output_type": "execute_result"
    }
   ],
   "source": [
    "df_bc_rmduplicated = df_bc.loc[:,'class':'irradiat']\n",
    "df_bc_rmduplicated.head()"
   ]
  },
  {
   "cell_type": "code",
   "execution_count": 34,
   "metadata": {},
   "outputs": [
    {
     "data": {
      "text/html": [
       "<div>\n",
       "<style scoped>\n",
       "    .dataframe tbody tr th:only-of-type {\n",
       "        vertical-align: middle;\n",
       "    }\n",
       "\n",
       "    .dataframe tbody tr th {\n",
       "        vertical-align: top;\n",
       "    }\n",
       "\n",
       "    .dataframe thead th {\n",
       "        text-align: right;\n",
       "    }\n",
       "</style>\n",
       "<table border=\"1\" class=\"dataframe\">\n",
       "  <thead>\n",
       "    <tr style=\"text-align: right;\">\n",
       "      <th></th>\n",
       "      <th>class</th>\n",
       "      <th>age</th>\n",
       "      <th>menopause</th>\n",
       "      <th>tumor-size</th>\n",
       "      <th>inv-nodes</th>\n",
       "      <th>node-caps</th>\n",
       "      <th>deg-malig</th>\n",
       "      <th>breast</th>\n",
       "      <th>breast-quad</th>\n",
       "      <th>irradiat</th>\n",
       "    </tr>\n",
       "  </thead>\n",
       "  <tbody>\n",
       "    <tr>\n",
       "      <th>0</th>\n",
       "      <td>no-recurrence-events</td>\n",
       "      <td>30-39</td>\n",
       "      <td>premeno</td>\n",
       "      <td>30-34</td>\n",
       "      <td>0-2</td>\n",
       "      <td>no</td>\n",
       "      <td>3</td>\n",
       "      <td>left</td>\n",
       "      <td>left_low</td>\n",
       "      <td>no</td>\n",
       "    </tr>\n",
       "    <tr>\n",
       "      <th>1</th>\n",
       "      <td>no-recurrence-events</td>\n",
       "      <td>40-49</td>\n",
       "      <td>premeno</td>\n",
       "      <td>20-24</td>\n",
       "      <td>0-2</td>\n",
       "      <td>no</td>\n",
       "      <td>2</td>\n",
       "      <td>right</td>\n",
       "      <td>right_up</td>\n",
       "      <td>no</td>\n",
       "    </tr>\n",
       "    <tr>\n",
       "      <th>2</th>\n",
       "      <td>no-recurrence-events</td>\n",
       "      <td>40-49</td>\n",
       "      <td>premeno</td>\n",
       "      <td>20-24</td>\n",
       "      <td>0-2</td>\n",
       "      <td>no</td>\n",
       "      <td>2</td>\n",
       "      <td>left</td>\n",
       "      <td>left_low</td>\n",
       "      <td>no</td>\n",
       "    </tr>\n",
       "    <tr>\n",
       "      <th>3</th>\n",
       "      <td>no-recurrence-events</td>\n",
       "      <td>60-69</td>\n",
       "      <td>ge40</td>\n",
       "      <td>15-19</td>\n",
       "      <td>0-2</td>\n",
       "      <td>no</td>\n",
       "      <td>2</td>\n",
       "      <td>right</td>\n",
       "      <td>left_up</td>\n",
       "      <td>no</td>\n",
       "    </tr>\n",
       "    <tr>\n",
       "      <th>4</th>\n",
       "      <td>no-recurrence-events</td>\n",
       "      <td>40-49</td>\n",
       "      <td>premeno</td>\n",
       "      <td>0-4</td>\n",
       "      <td>0-2</td>\n",
       "      <td>no</td>\n",
       "      <td>2</td>\n",
       "      <td>right</td>\n",
       "      <td>right_low</td>\n",
       "      <td>no</td>\n",
       "    </tr>\n",
       "  </tbody>\n",
       "</table>\n",
       "</div>"
      ],
      "text/plain": [
       "                  class    age menopause tumor-size inv-nodes node-caps  \\\n",
       "0  no-recurrence-events  30-39   premeno      30-34       0-2        no   \n",
       "1  no-recurrence-events  40-49   premeno      20-24       0-2        no   \n",
       "2  no-recurrence-events  40-49   premeno      20-24       0-2        no   \n",
       "3  no-recurrence-events  60-69      ge40      15-19       0-2        no   \n",
       "4  no-recurrence-events  40-49   premeno        0-4       0-2        no   \n",
       "\n",
       "   deg-malig breast breast-quad irradiat  \n",
       "0          3   left    left_low       no  \n",
       "1          2  right    right_up       no  \n",
       "2          2   left    left_low       no  \n",
       "3          2  right     left_up       no  \n",
       "4          2  right   right_low       no  "
      ]
     },
     "execution_count": 34,
     "metadata": {},
     "output_type": "execute_result"
    }
   ],
   "source": [
    "df_bc_rmduplicated.drop_duplicates(inplace=True)\n",
    "df_bc_rmduplicated.head()"
   ]
  },
  {
   "cell_type": "code",
   "execution_count": 36,
   "metadata": {},
   "outputs": [
    {
     "name": "stdout",
     "output_type": "stream",
     "text": [
      "Count\tOriginal = 286\tCopy = 272\tDiff = 14\n"
     ]
    }
   ],
   "source": [
    "count_original_bc = df_bc.shape[0]\n",
    "count_copy_bc = df_bc_rmduplicated.shape[0]\n",
    "msg = \"Count\\tOriginal = {}\\tCopy = {}\\tDiff = {}\"\n",
    "print(msg.format(str(count_original_bc), str(count_copy_bc), str(count_original_bc-count_copy_bc)))"
   ]
  },
  {
   "cell_type": "code",
   "execution_count": 3,
   "metadata": {},
   "outputs": [
    {
     "data": {
      "text/html": [
       "<div>\n",
       "<style scoped>\n",
       "    .dataframe tbody tr th:only-of-type {\n",
       "        vertical-align: middle;\n",
       "    }\n",
       "\n",
       "    .dataframe tbody tr th {\n",
       "        vertical-align: top;\n",
       "    }\n",
       "\n",
       "    .dataframe thead th {\n",
       "        text-align: right;\n",
       "    }\n",
       "</style>\n",
       "<table border=\"1\" class=\"dataframe\">\n",
       "  <thead>\n",
       "    <tr style=\"text-align: right;\">\n",
       "      <th></th>\n",
       "      <th>3</th>\n",
       "    </tr>\n",
       "  </thead>\n",
       "  <tbody>\n",
       "    <tr>\n",
       "      <th>count</th>\n",
       "      <td>285.000000</td>\n",
       "    </tr>\n",
       "    <tr>\n",
       "      <th>mean</th>\n",
       "      <td>2.045614</td>\n",
       "    </tr>\n",
       "    <tr>\n",
       "      <th>std</th>\n",
       "      <td>0.737351</td>\n",
       "    </tr>\n",
       "    <tr>\n",
       "      <th>min</th>\n",
       "      <td>1.000000</td>\n",
       "    </tr>\n",
       "    <tr>\n",
       "      <th>25%</th>\n",
       "      <td>2.000000</td>\n",
       "    </tr>\n",
       "    <tr>\n",
       "      <th>50%</th>\n",
       "      <td>2.000000</td>\n",
       "    </tr>\n",
       "    <tr>\n",
       "      <th>75%</th>\n",
       "      <td>3.000000</td>\n",
       "    </tr>\n",
       "    <tr>\n",
       "      <th>max</th>\n",
       "      <td>3.000000</td>\n",
       "    </tr>\n",
       "  </tbody>\n",
       "</table>\n",
       "</div>"
      ],
      "text/plain": [
       "                3\n",
       "count  285.000000\n",
       "mean     2.045614\n",
       "std      0.737351\n",
       "min      1.000000\n",
       "25%      2.000000\n",
       "50%      2.000000\n",
       "75%      3.000000\n",
       "max      3.000000"
      ]
     },
     "execution_count": 3,
     "metadata": {},
     "output_type": "execute_result"
    }
   ],
   "source": [
    "df_bc .describe()"
   ]
  },
  {
   "cell_type": "markdown",
   "metadata": {},
   "source": [
    "<h2><a name=\"topico-2\">2. Constrói algumas visualizações com matplolib</a></h2>\n",
    "<p>Primeiro separa os dados sem os registros dujplicados por sua classe</p>"
   ]
  },
  {
   "cell_type": "code",
   "execution_count": 44,
   "metadata": {},
   "outputs": [
    {
     "name": "stdout",
     "output_type": "stream",
     "text": [
      "Total for clean data frame = 272\tTotal class NRE = 191\tTotal class RE = 81\n"
     ]
    }
   ],
   "source": [
    "df_class_all = df_bc_rmduplicated.iloc[:,0:]\n",
    "df_class_nre = df_bc_rmduplicated[df_bc_rmduplicated['class'] == 'no-recurrence-events']\n",
    "df_class_re = df_bc_rmduplicated[df_bc_rmduplicated['class'] == 'recurrence-events']\n",
    "\n",
    "msg = \"Total for clean data frame = {}\\tTotal class NRE = {}\\tTotal class RE = {}\"\n",
    "print(msg.format(str(df_class_all.shape[0]), str(df_class_nre.shape[0]), str(df_class_re.shape[0])))"
   ]
  },
  {
   "cell_type": "code",
   "execution_count": 52,
   "metadata": {},
   "outputs": [
    {
     "data": {
      "text/plain": [
       "<matplotlib.axes._subplots.AxesSubplot at 0xbd8c9d0978>"
      ]
     },
     "execution_count": 52,
     "metadata": {},
     "output_type": "execute_result"
    },
    {
     "data": {
      "image/png": "[encoded data removed]",
      "text/plain": [
       "<Figure size 432x288 with 1 Axes>"
      ]
     },
     "metadata": {
      "needs_background": "light"
     },
     "output_type": "display_data"
    }
   ],
   "source": [
    "df_class_all['deg-malig'].plot(kind='hist')"
   ]
  },
  {
   "cell_type": "code",
   "execution_count": 55,
   "metadata": {},
   "outputs": [
    {
     "data": {
      "text/plain": [
       "<matplotlib.axes._subplots.AxesSubplot at 0xbd911232e8>"
      ]
     },
     "execution_count": 55,
     "metadata": {},
     "output_type": "execute_result"
    },
    {
     "data": {
      "image/png": "[encoded data removed]",
      "text/plain": [
       "<Figure size 432x288 with 1 Axes>"
      ]
     },
     "metadata": {
      "needs_background": "light"
     },
     "output_type": "display_data"
    }
   ],
   "source": [
    "ind = df_class_all['class'].value_counts().index\n",
    "df_class_all['class'].value_counts()[ind].plot(kind='bar')"
   ]
  },
  {
   "cell_type": "code",
   "execution_count": 56,
   "metadata": {},
   "outputs": [
    {
     "data": {
      "text/plain": [
       "<matplotlib.axes._subplots.AxesSubplot at 0xbd96e03358>"
      ]
     },
     "execution_count": 56,
     "metadata": {},
     "output_type": "execute_result"
    },
    {
     "data": {
      "image/png": "[encoded data removed]",
      "text/plain": [
       "<Figure size 432x288 with 1 Axes>"
      ]
     },
     "metadata": {
      "needs_background": "light"
     },
     "output_type": "display_data"
    }
   ],
   "source": [
    "ind = df_class_all['age'].value_counts().index\n",
    "df_class_all['age'].value_counts()[ind].plot(kind='bar')"
   ]
  },
  {
   "cell_type": "code",
   "execution_count": 57,
   "metadata": {},
   "outputs": [
    {
     "data": {
      "text/plain": [
       "<matplotlib.axes._subplots.AxesSubplot at 0xbd96b3dc88>"
      ]
     },
     "execution_count": 57,
     "metadata": {},
     "output_type": "execute_result"
    },
    {
     "data": {
      "image/png": "[encoded data removed]",
      "text/plain": [
       "<Figure size 432x288 with 1 Axes>"
      ]
     },
     "metadata": {
      "needs_background": "light"
     },
     "output_type": "display_data"
    }
   ],
   "source": [
    "ind = df_class_all['menopause'].value_counts().index\n",
    "df_class_all['menopause'].value_counts()[ind].plot(kind='bar')"
   ]
  },
  {
   "cell_type": "code",
   "execution_count": 58,
   "metadata": {},
   "outputs": [
    {
     "data": {
      "text/plain": [
       "<matplotlib.axes._subplots.AxesSubplot at 0xbd96de9940>"
      ]
     },
     "execution_count": 58,
     "metadata": {},
     "output_type": "execute_result"
    },
    {
     "data": {
      "image/png": "[encoded data removed]",
      "text/plain": [
       "<Figure size 432x288 with 1 Axes>"
      ]
     },
     "metadata": {
      "needs_background": "light"
     },
     "output_type": "display_data"
    }
   ],
   "source": [
    "ind = df_class_all['tumor-size'].value_counts().index\n",
    "df_class_all['tumor-size'].value_counts()[ind].plot(kind='bar')"
   ]
  },
  {
   "cell_type": "code",
   "execution_count": 60,
   "metadata": {},
   "outputs": [
    {
     "data": {
      "text/plain": [
       "<matplotlib.axes._subplots.AxesSubplot at 0xbd965126d8>"
      ]
     },
     "execution_count": 60,
     "metadata": {},
     "output_type": "execute_result"
    },
    {
     "data": {
      "image/png": "[encoded data removed]",
      "text/plain": [
       "<Figure size 432x288 with 1 Axes>"
      ]
     },
     "metadata": {
      "needs_background": "light"
     },
     "output_type": "display_data"
    }
   ],
   "source": [
    "ind = df_class_all['inv-nodes'].value_counts().index\n",
    "df_class_all['inv-nodes'].value_counts()[ind].plot(kind='bar')"
   ]
  },
  {
   "cell_type": "code",
   "execution_count": 62,
   "metadata": {},
   "outputs": [
    {
     "data": {
      "text/plain": [
       "<matplotlib.axes._subplots.AxesSubplot at 0xbd96a42438>"
      ]
     },
     "execution_count": 62,
     "metadata": {},
     "output_type": "execute_result"
    },
    {
     "data": {
      "image/png": "[encoded data removed]",
      "text/plain": [
       "<Figure size 432x288 with 1 Axes>"
      ]
     },
     "metadata": {
      "needs_background": "light"
     },
     "output_type": "display_data"
    }
   ],
   "source": [
    "ind = df_class_all['node-caps'].value_counts().index\n",
    "df_class_all['node-caps'].value_counts()[ind].plot(kind='bar')"
   ]
  },
  {
   "cell_type": "code",
   "execution_count": 63,
   "metadata": {},
   "outputs": [
    {
     "data": {
      "text/plain": [
       "<matplotlib.axes._subplots.AxesSubplot at 0xbd9683e080>"
      ]
     },
     "execution_count": 63,
     "metadata": {},
     "output_type": "execute_result"
    },
    {
     "data": {
      "image/png": "[encoded data removed]",
      "text/plain": [
       "<Figure size 432x288 with 1 Axes>"
      ]
     },
     "metadata": {
      "needs_background": "light"
     },
     "output_type": "display_data"
    }
   ],
   "source": [
    "ind = df_class_all['deg-malig'].value_counts().index\n",
    "df_class_all['deg-malig'].value_counts()[ind].plot(kind='bar')"
   ]
  },
  {
   "cell_type": "code",
   "execution_count": 64,
   "metadata": {},
   "outputs": [
    {
     "data": {
      "text/plain": [
       "<matplotlib.axes._subplots.AxesSubplot at 0xbd9689a198>"
      ]
     },
     "execution_count": 64,
     "metadata": {},
     "output_type": "execute_result"
    },
    {
     "data": {
      "image/png": "[encoded data removed]",
      "text/plain": [
       "<Figure size 432x288 with 1 Axes>"
      ]
     },
     "metadata": {
      "needs_background": "light"
     },
     "output_type": "display_data"
    }
   ],
   "source": [
    "ind = df_class_all['breast'].value_counts().index\n",
    "df_class_all['breast'].value_counts()[ind].plot(kind='bar')"
   ]
  },
  {
   "cell_type": "code",
   "execution_count": 65,
   "metadata": {},
   "outputs": [
    {
     "data": {
      "text/plain": [
       "<matplotlib.axes._subplots.AxesSubplot at 0xbd968e0ba8>"
      ]
     },
     "execution_count": 65,
     "metadata": {},
     "output_type": "execute_result"
    },
    {
     "data": {
      "image/png": "[encoded data removed]",
      "text/plain": [
       "<Figure size 432x288 with 1 Axes>"
      ]
     },
     "metadata": {
      "needs_background": "light"
     },
     "output_type": "display_data"
    }
   ],
   "source": [
    "ind = df_class_all['breast-quad'].value_counts().index\n",
    "df_class_all['breast-quad'].value_counts()[ind].plot(kind='bar')"
   ]
  },
  {
   "cell_type": "code",
   "execution_count": 66,
   "metadata": {},
   "outputs": [
    {
     "data": {
      "text/plain": [
       "<matplotlib.axes._subplots.AxesSubplot at 0xbd9695a828>"
      ]
     },
     "execution_count": 66,
     "metadata": {},
     "output_type": "execute_result"
    },
    {
     "data": {
      "image/png": "[encoded data removed]",
      "text/plain": [
       "<Figure size 432x288 with 1 Axes>"
      ]
     },
     "metadata": {
      "needs_background": "light"
     },
     "output_type": "display_data"
    }
   ],
   "source": [
    "ind = df_class_all['irradiat'].value_counts().index\n",
    "df_class_all['irradiat'].value_counts()[ind].plot(kind='bar')"
   ]
  },
  {
   "cell_type": "markdown",
   "metadata": {},
   "source": [
    "<h2><a name=\"topico-3\">3. Implementação para o C4.5</a></h2>\n",
    "<p>Deste ponto em diante o conjunto de dados trabalhado até então será usado para criar ae testar a implementação do algoritmo C4.5</p>\n",
    "<hr>"
   ]
  },
  {
   "cell_type": "markdown",
   "metadata": {},
   "source": [
    "<p>A função a seguir é uma possível implementação deste algoritmo.</p>\n",
    "\n",
    "![Algoritmo 6.1](algoritmo_61.png)\n",
    "\n",
    "<p>Considerando que a forma como o algoritmo está sendo apresentado esta possível implementação leva em conta as seguintes observações</p>\n",
    "<p><ol>\n",
    "    <li>. A arvore construída é feita recursivamente</li>\n",
    "    <li>. A arvore é binária</li>\n",
    "    <li>. O algoritmo tem comportamento <i>guloso</i></li>\n",
    "</ol></p>"
   ]
  },
  {
   "cell_type": "markdown",
   "metadata": {},
   "source": [
    "<h3><a name=\"topico-31\">3.1 Implementação do Algoritmo 6.1</a></h3>"
   ]
  },
  {
   "cell_type": "markdown",
   "metadata": {},
   "source": [
    "<h4>Pseudo-código proposto</h4>\n",
    "<pre>\n",
    "\n",
    "<blockquote>\n",
    "@Todo Esta função simboliza o critério de divisão do algoritmo, no caso do C4.5 deve ser \n",
    "implementado os procedimentos para cálculo de ganho de informação e entropia\n",
    "</blockquote>\n",
    "<strong>funcao</strong> <i>\"DividirArvoreDecisao\"</i> ( dadosTreinamento: <u>Object</u> ): <strong>Object</strong>\n",
    "<strong>Inicio</strong>\n",
    "    Obtém a <i>lista de atributos</i> do <i>dadosTreinamento</i>\n",
    "    <strong>Para</strong> cada <i>atributo</i> na <i>lista de atributos</i>\n",
    "        Calcule o critério de divisão\n",
    "        Guarde o <i>critério de divisão</i> encontrado em <i>lista de critérios</i>\n",
    "    <strong>Fimpara</strong>\n",
    "    Procure em <i>lista de critérios</i> qual o maior valor encontrado\n",
    "    Retorne o <i>nome do atributo</i> com maior <i>critério de divisão</i>\n",
    "<strong>Fim</strong>\n",
    "\n",
    "<blockquote>\n",
    "@Todo: Esta função pode ser alterada para incluir varios critérios de paradas bastando ter um \n",
    "parâmetro que indenfique qual critério será utilizado e no interior da função uma estrutura de \n",
    "seleção multipla escolha pode ser  utilizada para definir qual o critério a ser executado. No caso \n",
    "abaixo  estamos apenas verificando que caso seja o último nó da lista então a  função deve ser \n",
    "parada. Contudo, outro critério de parada pode ser  utilizado, como também múltiplos critérios \n",
    "podem ser adotados.\n",
    "</blockquote>\n",
    "<strong>funcao</strong> <i>\"CriterioParada\"</i> ( dadosTreinamento: <u>Object</u> ): <strong>Bool</strong>\n",
    "<strong>Var</strong>\n",
    "    tamanho: <strong>Inteiro</strong>\n",
    "<strong>Inicio</strong>\n",
    "   tamanho = Conte o tamanho de <i>atributosConjuntoTreinamento</i>\n",
    "   <strong>Se</strong> (tamanho == 1) <strong>Entao</strong>\n",
    "       <strong>Retorne True</strong>\n",
    "   <strong>Senao</strong>\n",
    "       <strong>Retorne False</strong>\n",
    "<strong>Fim</strong>\n",
    "\n",
    "<blockquote style=\"text-align: justify; word-wrap: normal; hyphens=auto\">\n",
    "@Todo 1. Na primeira instrução Se somente duas partições são formadas por vez de execução \n",
    "do algoritmo, visto que a arvore de decisão em questão é uma arvore binária. De outra forma, o \n",
    "espaço de procura é dividido  por dois, sucessivamente e em cada parte até se alcan~çar a condição \n",
    "de parada.\n",
    "</blockquote>\n",
    "<blockquote style=\"text-align: justify; word-wrap: normal; hyphens=auto\">\n",
    "@Todo 2. Por se tratar de uma função de chamada recursiva a ordem que está representada no algoritmo\n",
    "abaixo significa que a arvore crescerá a direita até o fim e sem seguida ao retornar crescecerá a \n",
    "direita.\n",
    "</blockquote>\n",
    "<blockquote style=\"text-align: justify; word-wrap: normal; hyphens=auto\">\n",
    "@Todo 3. Cada nó da arvore (sem exceção) tem a mesa estrutura que varia unicamente em função de ser\n",
    "um nó folha ou um nó ramo, a indicação de ser nó folha ou ramo é feita pelo  campo 'leaf'; para um\n",
    "<u>nó raiz</u> ou tronco <u>sua composição é 'label (nome do atributo), test_condition (qual a regra  de \n",
    "divisão naquele nó), leaf=False, right (aponta para a subarvore a direita e left (aponta para a \n",
    "subarvore  esquerda)'</u>; para um <u>nó folha</u> é <u>composta por 'label, leaf=True, test_condition \n",
    "(qual a regra  de  conclusão naquele nó) e class (classe  resultante da regra de decisão formada na arvore)'</u>\n",
    "</blockquote>\n",
    "<blockquote style=\"text-align: justify; word-wrap: normal; hyphens=auto\">\n",
    "@Todo 4. Múltiplos critérios de parada podem ser utilizados no corpo de função para isto basta incluir\n",
    "novos blocos <strong>Senão..Se</strong> bastando usar a função <i>CriterioParada</i> alterada ou outra \n",
    "função adequada para definir a ideia.\n",
    "</blockquote>\n",
    "<blockquote style=\"text-align: justify; word-wrap: normal; hyphens=auto\">\n",
    "@Todo 5. Poderia ser interessante adicionar uma função que verificava se o nó a ser adicionado na arvore\n",
    "é interessante talvez, talvez uma função que olhasse o atributo anterior e o atual e tentasse fazer um \n",
    "comparativo da importância daquele nó na arvore. Ou, ao invés de eliminar o nó manter um registro na \n",
    "estrutura do nó da probabilidade daquele caminho levar a algum lugar, facilitando um percurso de\n",
    "tomada de decisão\n",
    "</blockquote>\n",
    "<strong>funcao</strong> <i>\"GerarArvoreDecisao\"</i> ( dadosTreinamento: <u>Object</u> ): <strong>Object</strong>\n",
    "<strong>Var</strong>\n",
    "    root, leafEnd: <strong>Object</strong>\n",
    "    particao: <strong>Matriz</strong>\n",
    "    atributo, classe: <strong>Literal</strong>\n",
    "<strong>Inicio</strong>\n",
    "    <strong>Se</strong> ( CriterioParada(<i>dadosTreinamento</i>) == <strong>True</strong> ) <strong>Entao</strong>\n",
    "        <strong>Inicio</strong>\n",
    "            &#35;&#35; Para de expandir a arvore\n",
    "            atributo = Obtem <i>atributo</i> de <i>dadosTreinamento</i>\n",
    "            classe = Identifica a classe resultante em <i>atributo</i>\n",
    "            leafEnd = <strong>array</strong>('label' => <i>atributo</i>,\n",
    "                             'test_condition' => <i title=\"Determinado de acordo com o atributo avaliado\"><u>condition</u></i>\n",
    "                             'leaf' => <strong>True</strong>,\n",
    "                              'class' => <i>classe</i> )\n",
    "            Retorne <i>leafEnd</i>\n",
    "        <strong>FimSe</strong>\n",
    "    &#35;&#35; Caso a parada não seja necessária o algoritmo segue executando fazendo as divisões do conjunto\n",
    "    atributo = <i>DividirArvoreDecisao</i>( <i>dadosTreinamento</i> )\n",
    "    particao&#91;'left'&#93; = Copia de 0 ate <i>atributo</i> de divisao de <i>dadosTreinamento</i>\n",
    "    particao&#91;'right'&#93; = Copia de <i>atributo</i> de divisao ate o fim de <i>dadosTreinamento</i>\n",
    "    root = <strong>array</strong>('label' => <i>atributo</i>,\n",
    "                 'test_condition' => <i title=\"Determinado de acordo com o atributo avaliado\"><u>condition</u></i>\n",
    "                 'leaf' => <strong>False</strong>,\n",
    "                 'left' => <strong>array</strong>(),\n",
    "                 'right' => <strong>array</strong>() )\n",
    "    <i>root[left]</i> = GerarArvoreDecisao( <i>particao&#91;'left'&#93;</i> )\n",
    "    <i>root[right]</i> = GerarArvoreDecisao( <i>particao&#91;'right'&#93;</i> )\n",
    "    Retorne <i>root</i>\n",
    "<strong>Fim</strong>\n",
    "\n",
    "<blockquote>@Todo Programa principal</blockquote>\n",
    "<strong>Algoritmo</strong> <i>\"MainArvoreDecisao\"</i>\n",
    "<strong>Var</strong>\n",
    "    arvore, dataFrame: Object\n",
    "<strong>Inicio</strong>\n",
    "    dataFrame = Leia os <u>dados de treinamento</u>\n",
    "    arvore = GerarArvoreDecisao( dataFrame )\n",
    "    Exiba <i>arvore</i>\n",
    "<strong>Fim</strong>\n",
    "</pre>"
   ]
  },
  {
   "cell_type": "markdown",
   "metadata": {},
   "source": [
    "<p>A implementação abaixo já começa a ser o esboço do pseudo código em Python</p>\n",
    "<p>Observe que nem tudo está definido pois o pseudo código acima ainda está em um nível mais fácil para compreensão do que implementação</p>\n",
    "<p>Há a existência de duas estrutura de dados necessárias, uma para representar o tronco e outra para a folha, porém ao contrário da Linguagem C que possui o <i>struct</i> em Python usamos uma classe vazia para simular esta mesma características</p>\n",
    "<p>Alternativamente outras estruturas de dados do Python foram cogitadas, mas por uma questão de clareza no código não foram utilziadas. Por exemplos, listas por Python não se preocupar com indexação e ordem em listas, tuplas, por contarem valores que não podem ser modificados depois de serem criados, dicionários, que sendo próximos ao que queriam são usados para representar estrutura de dados bi-dimensionais, tais como tabelas</p>\n",
    "<p>Outras bibliotecas já produzidas poderiam ser utilziadas, porém a intenção neste momento, é buscar uma implementação mais pura e próxima do algoritmo que estamos <u>decifrando</u>, assim fica mais fácil para entender se o algoritmo está tendo o compirtamento que esperamos pela forma que o escrevemos e obviamente se o portassemos para outra linguagem conseguiriamos reproduzi-lo com os mesmos resultados</p>\n",
    "<p>Após este momento implementando nativamente com os recursos da linguagem poderemos dedicar a buscar recursos e/ou bibliotecas existentes que possam otimizar e/ou potencializar a execução de nosso algoritmo tornando-o mais eficiente</p>"
   ]
  },
  {
   "cell_type": "code",
   "execution_count": 8,
   "metadata": {},
   "outputs": [],
   "source": [
    "def splitDecisionTree(trainningData):\n",
    "    \"\"\"\n",
    "    Esta e a função pra dividir uma arvore de decisão\n",
    "    Input: Dados de Treinamento\n",
    "    Output: Ponto de divisão\n",
    "    \"\"\"\n",
    "    pass\n",
    "\n",
    "\n",
    "def gaugeStopRecursion( trainningData ):\n",
    "    \"\"\" \n",
    "    Esta função determina quando a recursividade da arvore deve parar para a expansão\n",
    "    Input: Dados de treinamento\n",
    "    Output: (Bool) True = Stop, False = Continue\n",
    "    \"\"\"\n",
    "    pass\n",
    "\n",
    "\n",
    "def getAttribFromDataTrainning(trainningData):\n",
    "    \"\"\"Extrai o rótulo de um atributo dos dados de treinamento\"\"\"\n",
    "    pass\n",
    "\n",
    "\n",
    "def identifyClass(trainningData):\n",
    "    \"\"\"Identifica qual a classe para determinado atributo\"\"\"\n",
    "    pass\n",
    "\n",
    "def trunkCondition(trainningData):\n",
    "    \"\"\"Retorna qual a regra a ser aplicada em determinado tronco da arvore\"\"\"\n",
    "    pass\n",
    "\n",
    "def copyDataFrame(trainningData, begin, end):\n",
    "    \"\"\"Retorna uma parte do conjunto de dados mapeando em colunas e linhas\"\"\"\n",
    "    pass\n",
    "\n",
    "class Struct:\n",
    "    def __init__(self, **kwargs):\n",
    "        for k, v in kwargs.items():\n",
    "            setattr(self, k, v)\n",
    "    \n",
    "class StructNode(Struct):\n",
    "    pass\n",
    "\n",
    "def genderDecisionTree(trainningData):\n",
    "    if gaugeStopRecursion(trainningData):\n",
    "        atributo = getAttribFromDataTrainning(trainningData)\n",
    "        classification = identifyClass(trainningData)\n",
    "        tc = trunkCondition(trainningData)\n",
    "        leafEnd = StructNode(label = atributo, test_condition = tc, leaf = True, classification = '')    \n",
    "        return leafEnd\n",
    "    # else\n",
    "    attribPointDivision = splitDecisionTree(trainningData)\n",
    "    tc = trunkCondition(trainningData)\n",
    "    left_partition = copyDataFrame(trainningData, 0, attribPointDivision)\n",
    "    right_partition = copyDataFrame(trainningData, attribPointDivision, -1)\n",
    "    leafRoot = StructNode(label = attribPointDivision, test_condition = tc, leaf = False, left = NULL, right = NULL)\n",
    "    \n",
    "    leafRoot.left = genderDecisionTree(left_partition)\n",
    "    leafRoot.right = genderDecisionTree(right_partition)\n",
    "    return leafRoot\n",
    "\n",
    "# Main implementation\n",
    "# Neste ponto deveria ser implementado o programa principal, \n",
    "# porém como a funções acima não está operacional então não faz sentido \n",
    "# implementar esta parte do código\n",
    "# Ocorrendo então após as funções acima estarem maduras o suficiente"
   ]
  },
  {
   "cell_type": "markdown",
   "metadata": {},
   "source": [
    "<h3><a name=\"topico-32\">3.2 Implementação do algoritmo para divisão da arvore</a></h3>"
   ]
  },
  {
   "cell_type": "markdown",
   "metadata": {},
   "source": [
    "<blockquote>\n",
    "<pre>\n",
    "<blockquote>@Todo Esta função simboliza o critério de divisão do algoritmo, no caso do C4.5 deve ser \n",
    "implementado os procedimentos para cálculo de ganho de informação e entropia\n",
    "</blockquote>\n",
    "<strong>funcao</strong> <i>\"DividirArvoreDecisao\"</i> ( dadosTreinamento: <u>Object</u> ): <strong>Object</strong>\n",
    "<strong>Inicio</strong>\n",
    "    Obtém a <i>lista de atributos</i> do <i>dadosTreinamento</i>\n",
    "    <strong>Para</strong> cada <i>atributo</i> na <i>lista de atributos</i>\n",
    "        Calcule o critério de divisão\n",
    "        Guarde o <i>critério de divisão</i> encontrado em <i>lista de critérios</i>\n",
    "    <strong>Fimpara</strong>\n",
    "    Procure em <i>lista de critérios</i> qual o maior valor encontrado\n",
    "    Retorne o <i>nome do atributo</i> com maior <i>critério de divisão</i>\n",
    "<strong>Fim</strong>\n",
    "    </pre>"
   ]
  },
  {
   "cell_type": "markdown",
   "metadata": {},
   "source": [
    "<p>Até o momento a proposta para a divisão dos nos das arvores se baseiam em usar algum método ou critério</p>\n",
    "<p>Este método ou critério deve observar os atributos avaliados e decidir qual maximza a busca</p>\n",
    "<p>Maximar a busca é escolher o mais significativo dos atributos no momento da avaliação</p>\n",
    "<p>Contudo os procedimentos para esta divisão podem ser entendidos com os seguintes pontos</p>\n",
    "<p>\n",
    "    <ul>\n",
    "        <li>A função para dividir uma arvore é chamada dentro de um procedimento principal que é executado recursivamente</li>\n",
    "        <li>Cada vez que a função é chamada ele recebe um subconjunto dos dados</li>\n",
    "        <li>A partir deste subconjunto a função determina qual dos atributos é o \"mais significante\"</li>\n",
    "        <li>O atributo mais significante é o que possiblita um maior ganho de informação</li>\n",
    "        <li>Quanto maior o ganho de informação então menor é o caminho formado na árvore de decisão para se chegar a uma folha</li>\n",
    "        <li>Cada atributo de um conjuto de dados pode ser avaliado de forma binária</li>\n",
    "        <li>Este forma binária indica que um atributo pode basicamente ser avaliado em uma forma \"Sim/Não\"</li>\n",
    "        <li>Esta forma Sim/Não nada mais indica qual a probabilidade de algo acontecer, no caso, do atributo determinar a classe</li>\n",
    "        <li>Esta probabilidade também é influencia pelo atributo antecessor, em outras palavras, seria como dizer \"Considerando o atributo antecessor qual a probabilidade da classe ser A ou qual a probabilidade da classe ser B\"</li>\n",
    "        <li>Além de considerar o atributo antecessor é necessário achar numa forma de avaliar a probabilidade de acontecer o \"Sim/Não\" ou \"A/B</li>\n",
    "        <li>Para avaliar a probabilidade então o \"Sim/Não\" é avaliado de forma binária mais uma vez</li>\n",
    "        <li>Essa segunda avaliação é feita olhando para os dados</li>\n",
    "        <li>É através dos dados que aprendemos, então, são os dados que nos dão as resposta</li>\n",
    "        <li>Assim, observando os dados, conta-se a probabilidade para sim e não em cada caso</li>\n",
    "        <li>A probabilidade \"Sim/Não\" conjecturada até aqui é na verdade a frequência de valores que ocorrem para determinado atributo</li>\n",
    "        <li>A probabilidade avaliada mais uma vez, conjectura também aqui, é na verdade a probabilidade de cada item da frequencia avaliada ocorrer</li>\n",
    "        <li>em problemas de aprendizados é muito comum acontecer de não termos todas as atributos necessários para classificarmos totalmente um conjunto de dados.</li>\n",
    "    </ul>\n",
    "</p>"
   ]
  },
  {
   "cell_type": "markdown",
   "metadata": {},
   "source": [
    "<p>A função abaixo calcula a entropia para um conjunto de dados</p>\n",
    "\n",
    "![Formula calculo Entropia](formula_calculo_entropia.png)\n",
    "\n",
    "![Formula calculo Entropia](formula_calculo_entropia_2.png)\n",
    "\n",
    "<p><i>p</i> é a proporção de exemplos em relação a todo conjunto </p>\n",
    "<p><i>q</i> é o total de instâncias no conjunto</p>\n",
    "<p>Vale ressaltar que as funções definidas estão sendo escritas preocupando-se em executarem um e apenas um procedimento, neste caso a intenção é que a função lide somente com os cálculos, caso futuramente seja necessário mudanças/optimizações nas fuções fica mais fácil. Outro ponto é que os dados devem ser lidados em uma outra função prefixada, exemplo <i>prepare</i>, esta outra função ficaria responsável por buscar os dados e prepara-los para serem repassados paraa função de cálculo</p>"
   ]
  },
  {
   "cell_type": "code",
   "execution_count": 34,
   "metadata": {},
   "outputs": [
    {
     "data": {
      "text/plain": [
       "0.9402859586706311"
      ]
     },
     "execution_count": 34,
     "metadata": {},
     "output_type": "execute_result"
    }
   ],
   "source": [
    "def prepareCalcEntropy():\n",
    "    pass\n",
    "\n",
    "def entropyDecisionTree(class_positive: int, class_negative: int) -> float:\n",
    "    from math import log2\n",
    "    \"\"\"\n",
    "        Esta função calcula a entropia total de um conjunto de dados, observe \n",
    "            que o valor da entropia varia em função da precisão de ponto flutuante de python\n",
    "        Input:  class_positive = numero de instâncias com classe positiva\n",
    "                class_negative = número de instâncias com classe negativa\n",
    "        Output: (float) que representa a entropia total do conjunto\n",
    "    \"\"\"\n",
    "    if class_positive < 0:\n",
    "        return -1\n",
    "    if class_negative < 0:\n",
    "        return -1\n",
    "    if class_positive == 0:\n",
    "        return 0\n",
    "    if class_negative == 0:\n",
    "        return 0\n",
    "    total_instance = class_positive + class_negative\n",
    "    p = (class_positive/total_instance) * log2(class_positive/total_instance)\n",
    "    q = (class_negative/total_instance) * log2(class_negative/total_instance)\n",
    "    entropy = (-1 * p) - q\n",
    "    return entropy\n",
    "\n",
    "\n",
    "entropyDecisionTree(9, 5)"
   ]
  },
  {
   "cell_type": "markdown",
   "metadata": {},
   "source": [
    "<p>A função abaixo calcula o ganho de informação para um conjunto de dados</p>\n",
    "\n",
    "![formula_calculo_ganho_informacao](formula_calculo_ganho_informacao.png)\n",
    "\n",
    "<p><i>S</i> é o conjunto todo de atributos</p>\n",
    "<p><i>A</i> é o atributo em questão</p>"
   ]
  },
  {
   "cell_type": "code",
   "execution_count": 38,
   "metadata": {},
   "outputs": [
    {
     "data": {
      "text/plain": [
       "0.24674981977443933"
      ]
     },
     "execution_count": 38,
     "metadata": {},
     "output_type": "execute_result"
    }
   ],
   "source": [
    "from typing import List, Dict, Any\n",
    "# Alias for type\n",
    "DataFrequency = Dict[str, Any]\n",
    "Frequency = List[DataFrequency]\n",
    "\n",
    "def prepareCalcGainInformation():\n",
    "    pass\n",
    "\n",
    "\n",
    "def gainInformationDecisionTree(frequencies: Frequency, entropy_global: float, total_instance: int) -> float:\n",
    "    entropy_local = 0\n",
    "    for frequency in frequencies:\n",
    "        entropy_frequency = entropyDecisionTree(frequency['class_positive'], frequency['class_negative'])\n",
    "        attrib_relative_frequency = (frequency['class_positive'] + frequency['class_negative']) / total_instance\n",
    "        entropy_local += attrib_relative_frequency * entropy_frequency\n",
    "    gainInformation =  entropy_global - entropy_local\n",
    "    return gainInformation\n",
    "    \n",
    "\n",
    "# Teste\n",
    "dataCalc = [{'value': 'Sol', 'class_positive': 2, 'class_negative': 3},\n",
    "            {'value': 'Nublado', 'class_positive': 4, 'class_negative': 0},\n",
    "            {'value': 'Chuva', 'class_positive': 3, 'class_negative': 2}]\n",
    "\n",
    "my_entropy = entropyDecisionTree(9, 5)\n",
    "gainInformationDecisionTree(dataCalc, my_entropy, 14)"
   ]
  },
  {
   "cell_type": "code",
   "execution_count": 81,
   "metadata": {},
   "outputs": [
    {
     "data": {
      "text/plain": [
       "33373"
      ]
     },
     "execution_count": 81,
     "metadata": {},
     "output_type": "execute_result"
    }
   ],
   "source": []
  },
  {
   "cell_type": "code",
   "execution_count": 5,
   "metadata": {},
   "outputs": [
    {
     "data": {
      "text/plain": [
       "pandas.core.frame.DataFrame"
      ]
     },
     "execution_count": 5,
     "metadata": {},
     "output_type": "execute_result"
    }
   ],
   "source": [
    "type(df_bc)"
   ]
  },
  {
   "cell_type": "code",
   "execution_count": 9,
   "metadata": {},
   "outputs": [
    {
     "data": {
      "text/plain": [
       "True"
      ]
     },
     "execution_count": 9,
     "metadata": {},
     "output_type": "execute_result"
    }
   ],
   "source": [
    "isinstance(df_bc, pd.core.frame.DataFrame)"
   ]
  },
  {
   "cell_type": "code",
   "execution_count": null,
   "metadata": {},
   "outputs": [],
   "source": []
  }
 ],
 "metadata": {
  "kernelspec": {
   "display_name": "Python 3",
   "language": "python",
   "name": "python3"
  },
  "language_info": {
   "codemirror_mode": {
    "name": "ipython",
    "version": 3
   },
   "file_extension": ".py",
   "mimetype": "text/x-python",
   "name": "python",
   "nbconvert_exporter": "python",
   "pygments_lexer": "ipython3",
   "version": "3.7.1"
  }
 },
 "nbformat": 4,
 "nbformat_minor": 2
}
